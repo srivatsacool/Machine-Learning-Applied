{
 "cells": [
  {
   "cell_type": "code",
   "execution_count": 1,
   "id": "9e8bc117-3980-42d2-8652-6da2a7d0bc0c",
   "metadata": {},
   "outputs": [],
   "source": [
    "from nltk.tokenize import sent_tokenize, word_tokenize"
   ]
  },
  {
   "cell_type": "code",
   "execution_count": 2,
   "id": "6400d23e-166e-4579-83c3-2e8525e887e1",
   "metadata": {},
   "outputs": [
    {
     "name": "stderr",
     "output_type": "stream",
     "text": [
      "[nltk_data] Downloading package punkt to\n",
      "[nltk_data]     C:\\Users\\sriva\\AppData\\Roaming\\nltk_data...\n",
      "[nltk_data]   Package punkt is already up-to-date!\n"
     ]
    },
    {
     "data": {
      "text/plain": [
       "True"
      ]
     },
     "execution_count": 2,
     "metadata": {},
     "output_type": "execute_result"
    }
   ],
   "source": [
    "import nltk\n",
    "nltk.download('punkt')"
   ]
  },
  {
   "cell_type": "code",
   "execution_count": 3,
   "id": "76373c3e-867d-4f08-a518-426ad827dfbd",
   "metadata": {
    "tags": []
   },
   "outputs": [
    {
     "name": "stdout",
     "output_type": "stream",
     "text": [
      "['Natural language processing (NLP) is a field of computer science, artificial intelligence and computational linguistics concerned with the interactions between computers and human (natural) languages, and, in particular, concerned with programming computers to fruitfully process large natural language corpora.', 'Challenges in natural language processing frequently involve natural language understanding, natural languagegeneration frequently from formal, machine-readable logical forms), connecting language and machine perception, managing human-computer dialog systems, or some combination thereof.']\n",
      "['Natural', 'language', 'processing', '(', 'NLP', ')', 'is', 'a', 'field', 'of', 'computer', 'science', ',', 'artificial', 'intelligence', 'and', 'computational', 'linguistics', 'concerned', 'with', 'the', 'interactions', 'between', 'computers', 'and', 'human', '(', 'natural', ')', 'languages', ',', 'and', ',', 'in', 'particular', ',', 'concerned', 'with', 'programming', 'computers', 'to', 'fruitfully', 'process', 'large', 'natural', 'language', 'corpora', '.', 'Challenges', 'in', 'natural', 'language', 'processing', 'frequently', 'involve', 'natural', 'language', 'understanding', ',', 'natural', 'languagegeneration', 'frequently', 'from', 'formal', ',', 'machine-readable', 'logical', 'forms', ')', ',', 'connecting', 'language', 'and', 'machine', 'perception', ',', 'managing', 'human-computer', 'dialog', 'systems', ',', 'or', 'some', 'combination', 'thereof', '.']\n"
     ]
    }
   ],
   "source": [
    "  \n",
    "text = \"Natural language processing (NLP) is a field \" + \\\n",
    "       \"of computer science, artificial intelligence \" + \\\n",
    "       \"and computational linguistics concerned with \" + \\\n",
    "       \"the interactions between computers and human \" + \\\n",
    "       \"(natural) languages, and, in particular, \" + \\\n",
    "       \"concerned with programming computers to \" + \\\n",
    "       \"fruitfully process large natural language \" + \\\n",
    "       \"corpora. Challenges in natural language \" + \\\n",
    "       \"processing frequently involve natural \" + \\\n",
    "       \"language understanding, natural language\" + \\\n",
    "       \"generation frequently from formal, machine\" + \\\n",
    "       \"-readable logical forms), connecting language \" + \\\n",
    "       \"and machine perception, managing human-\" + \\\n",
    "       \"computer dialog systems, or some combination \" + \\\n",
    "       \"thereof.\"\n",
    "  \n",
    "print(sent_tokenize(text))\n",
    "print(word_tokenize(text))\n",
    "word = word_tokenize(text)"
   ]
  },
  {
   "cell_type": "code",
   "execution_count": 4,
   "id": "83f7f939-934a-4373-b788-b477cd4f4289",
   "metadata": {},
   "outputs": [],
   "source": [
    "lem = nltk.WordNetLemmatizer()"
   ]
  },
  {
   "cell_type": "code",
   "execution_count": 5,
   "id": "457e19cd-1a76-4b22-ac8a-0078891db77e",
   "metadata": {},
   "outputs": [],
   "source": [
    "ps = nltk.PorterStemmer()\n"
   ]
  },
  {
   "cell_type": "code",
   "execution_count": 17,
   "id": "fb4647a9-60f4-465b-a125-c79ccc2b0109",
   "metadata": {},
   "outputs": [],
   "source": [
    "wordbank = nltk.tokenize.TreebankWordTokenizer"
   ]
  },
  {
   "cell_type": "code",
   "execution_count": 23,
   "id": "264e3f28-cf70-4200-ad02-86e7d9d4faf2",
   "metadata": {},
   "outputs": [
    {
     "data": {
      "text/plain": [
       "['Natural language processing (NLP) is a field of computer science, artificial intelligence and computational linguistics concerned with the interactions between computers and human (natural) languages, and, in particular, concerned with programming computers to fruitfully process large natural language corpora.',\n",
       " 'Challenges in natural language processing frequently involve natural language understanding, natural languagegeneration frequently from formal, machine-readable logical forms), connecting language and machine perception, managing human-computer dialog systems, or some combination thereof.']"
      ]
     },
     "execution_count": 23,
     "metadata": {},
     "output_type": "execute_result"
    }
   ],
   "source": [
    "sen = sent_tokenize(text)\n",
    "sen"
   ]
  },
  {
   "cell_type": "code",
   "execution_count": 22,
   "id": "f858e0d8-f20b-4199-b888-65034841e0f9",
   "metadata": {},
   "outputs": [
    {
     "ename": "TypeError",
     "evalue": "TokenizerI.tokenize_sents() missing 1 required positional argument: 'strings'",
     "output_type": "error",
     "traceback": [
      "\u001b[1;31m---------------------------------------------------------------------------\u001b[0m",
      "\u001b[1;31mTypeError\u001b[0m                                 Traceback (most recent call last)",
      "Input \u001b[1;32mIn [22]\u001b[0m, in \u001b[0;36m<cell line: 1>\u001b[1;34m()\u001b[0m\n\u001b[1;32m----> 1\u001b[0m \u001b[43mwordbank\u001b[49m\u001b[38;5;241;43m.\u001b[39;49m\u001b[43mtokenize_sents\u001b[49m\u001b[43m(\u001b[49m\u001b[43msen\u001b[49m\u001b[43m)\u001b[49m\n",
      "\u001b[1;31mTypeError\u001b[0m: TokenizerI.tokenize_sents() missing 1 required positional argument: 'strings'"
     ]
    }
   ],
   "source": [
    "wordbank.tokenize_sents(sen)"
   ]
  },
  {
   "cell_type": "code",
   "execution_count": 24,
   "id": "0d8fd47e-cdee-4c5d-827d-bbb0d48a87f1",
   "metadata": {},
   "outputs": [
    {
     "ename": "TypeError",
     "evalue": "TreebankWordTokenizer.tokenize() missing 1 required positional argument: 'text'",
     "output_type": "error",
     "traceback": [
      "\u001b[1;31m---------------------------------------------------------------------------\u001b[0m",
      "\u001b[1;31mTypeError\u001b[0m                                 Traceback (most recent call last)",
      "Input \u001b[1;32mIn [24]\u001b[0m, in \u001b[0;36m<cell line: 2>\u001b[1;34m()\u001b[0m\n\u001b[0;32m      1\u001b[0m lis5 \u001b[38;5;241m=\u001b[39m []\n\u001b[0;32m      2\u001b[0m \u001b[38;5;28;01mfor\u001b[39;00m i \u001b[38;5;129;01min\u001b[39;00m sen:\n\u001b[1;32m----> 3\u001b[0m     lis5\u001b[38;5;241m.\u001b[39mappend(\u001b[43mwordbank\u001b[49m\u001b[38;5;241;43m.\u001b[39;49m\u001b[43mtokenize\u001b[49m\u001b[43m(\u001b[49m\u001b[43mi\u001b[49m\u001b[43m)\u001b[49m)\n\u001b[0;32m      4\u001b[0m lis5\n",
      "\u001b[1;31mTypeError\u001b[0m: TreebankWordTokenizer.tokenize() missing 1 required positional argument: 'text'"
     ]
    }
   ],
   "source": [
    "\n",
    "lis5 = []\n",
    "for i in sen:\n",
    "    lis5.append(wordbank.tokenize(i))\n",
    "lis5"
   ]
  },
  {
   "cell_type": "code",
   "execution_count": 16,
   "id": "72becfc7-1771-498d-8646-96578049fe7c",
   "metadata": {},
   "outputs": [
    {
     "ename": "TypeError",
     "evalue": "TreebankWordTokenizer.tokenize() missing 1 required positional argument: 'text'",
     "output_type": "error",
     "traceback": [
      "\u001b[1;31m---------------------------------------------------------------------------\u001b[0m",
      "\u001b[1;31mTypeError\u001b[0m                                 Traceback (most recent call last)",
      "Input \u001b[1;32mIn [16]\u001b[0m, in \u001b[0;36m<cell line: 2>\u001b[1;34m()\u001b[0m\n\u001b[0;32m      1\u001b[0m lis5 \u001b[38;5;241m=\u001b[39m []\n\u001b[0;32m      2\u001b[0m \u001b[38;5;28;01mfor\u001b[39;00m i \u001b[38;5;129;01min\u001b[39;00m word:\n\u001b[1;32m----> 3\u001b[0m     lis5\u001b[38;5;241m.\u001b[39mappend(\u001b[43mwordbank\u001b[49m\u001b[38;5;241;43m.\u001b[39;49m\u001b[43mtokenize\u001b[49m\u001b[43m(\u001b[49m\u001b[43mword\u001b[49m\u001b[43m)\u001b[49m)\n\u001b[0;32m      4\u001b[0m lis5\n",
      "\u001b[1;31mTypeError\u001b[0m: TreebankWordTokenizer.tokenize() missing 1 required positional argument: 'text'"
     ]
    }
   ],
   "source": [
    "\n",
    "lis5 = []\n",
    "for i in word:\n",
    "    lis5.append(wordbank.tokenize(word))\n",
    "lis5"
   ]
  },
  {
   "cell_type": "code",
   "execution_count": 6,
   "id": "036e6560-2293-48f5-b993-9c808c389bd6",
   "metadata": {},
   "outputs": [
    {
     "data": {
      "text/plain": [
       "['natur',\n",
       " 'languag',\n",
       " 'process',\n",
       " '(',\n",
       " 'nlp',\n",
       " ')',\n",
       " 'is',\n",
       " 'a',\n",
       " 'field',\n",
       " 'of',\n",
       " 'comput',\n",
       " 'scienc',\n",
       " ',',\n",
       " 'artifici',\n",
       " 'intellig',\n",
       " 'and',\n",
       " 'comput',\n",
       " 'linguist',\n",
       " 'concern',\n",
       " 'with',\n",
       " 'the',\n",
       " 'interact',\n",
       " 'between',\n",
       " 'comput',\n",
       " 'and',\n",
       " 'human',\n",
       " '(',\n",
       " 'natur',\n",
       " ')',\n",
       " 'languag',\n",
       " ',',\n",
       " 'and',\n",
       " ',',\n",
       " 'in',\n",
       " 'particular',\n",
       " ',',\n",
       " 'concern',\n",
       " 'with',\n",
       " 'program',\n",
       " 'comput',\n",
       " 'to',\n",
       " 'fruit',\n",
       " 'process',\n",
       " 'larg',\n",
       " 'natur',\n",
       " 'languag',\n",
       " 'corpora',\n",
       " '.',\n",
       " 'challeng',\n",
       " 'in',\n",
       " 'natur',\n",
       " 'languag',\n",
       " 'process',\n",
       " 'frequent',\n",
       " 'involv',\n",
       " 'natur',\n",
       " 'languag',\n",
       " 'understand',\n",
       " ',',\n",
       " 'natur',\n",
       " 'languagegener',\n",
       " 'frequent',\n",
       " 'from',\n",
       " 'formal',\n",
       " ',',\n",
       " 'machine-read',\n",
       " 'logic',\n",
       " 'form',\n",
       " ')',\n",
       " ',',\n",
       " 'connect',\n",
       " 'languag',\n",
       " 'and',\n",
       " 'machin',\n",
       " 'percept',\n",
       " ',',\n",
       " 'manag',\n",
       " 'human-comput',\n",
       " 'dialog',\n",
       " 'system',\n",
       " ',',\n",
       " 'or',\n",
       " 'some',\n",
       " 'combin',\n",
       " 'thereof',\n",
       " '.']"
      ]
     },
     "execution_count": 6,
     "metadata": {},
     "output_type": "execute_result"
    }
   ],
   "source": [
    "lis = []\n",
    "for i in word:\n",
    "    lis.append(ps.stem(i))\n",
    "lis"
   ]
  },
  {
   "cell_type": "code",
   "execution_count": 7,
   "id": "ce1c16c4-ee3c-4675-80fe-551e5ec0bfe1",
   "metadata": {},
   "outputs": [
    {
     "data": {
      "text/plain": [
       "['natur',\n",
       " 'languag',\n",
       " 'process',\n",
       " '(',\n",
       " 'nlp',\n",
       " ')',\n",
       " 'is',\n",
       " 'a',\n",
       " 'field',\n",
       " 'of',\n",
       " 'comput',\n",
       " 'scienc',\n",
       " ',',\n",
       " 'artifici',\n",
       " 'intellig',\n",
       " 'and',\n",
       " 'comput',\n",
       " 'linguist',\n",
       " 'concern',\n",
       " 'with',\n",
       " 'the',\n",
       " 'interact',\n",
       " 'between',\n",
       " 'comput',\n",
       " 'and',\n",
       " 'human',\n",
       " '(',\n",
       " 'natur',\n",
       " ')',\n",
       " 'languag',\n",
       " ',',\n",
       " 'and',\n",
       " ',',\n",
       " 'in',\n",
       " 'particular',\n",
       " ',',\n",
       " 'concern',\n",
       " 'with',\n",
       " 'program',\n",
       " 'comput',\n",
       " 'to',\n",
       " 'fruit',\n",
       " 'process',\n",
       " 'larg',\n",
       " 'natur',\n",
       " 'languag',\n",
       " 'corpus',\n",
       " '.',\n",
       " 'challeng',\n",
       " 'in',\n",
       " 'natur',\n",
       " 'languag',\n",
       " 'process',\n",
       " 'frequent',\n",
       " 'involv',\n",
       " 'natur',\n",
       " 'languag',\n",
       " 'understand',\n",
       " ',',\n",
       " 'natur',\n",
       " 'languagegener',\n",
       " 'frequent',\n",
       " 'from',\n",
       " 'formal',\n",
       " ',',\n",
       " 'machine-read',\n",
       " 'logic',\n",
       " 'form',\n",
       " ')',\n",
       " ',',\n",
       " 'connect',\n",
       " 'languag',\n",
       " 'and',\n",
       " 'machin',\n",
       " 'percept',\n",
       " ',',\n",
       " 'manag',\n",
       " 'human-comput',\n",
       " 'dialog',\n",
       " 'system',\n",
       " ',',\n",
       " 'or',\n",
       " 'some',\n",
       " 'combin',\n",
       " 'thereof',\n",
       " '.']"
      ]
     },
     "execution_count": 7,
     "metadata": {},
     "output_type": "execute_result"
    }
   ],
   "source": [
    "lis2 = []\n",
    "for i in lis:\n",
    "    lis2.append(lem.lemmatize(i))\n",
    "lis2"
   ]
  },
  {
   "cell_type": "code",
   "execution_count": 8,
   "id": "5fea013f-7db4-4fcc-a021-a7f74dd8cdd6",
   "metadata": {},
   "outputs": [
    {
     "data": {
      "text/plain": [
       "['natur',\n",
       " 'languag',\n",
       " 'process',\n",
       " 'nlp',\n",
       " 'is',\n",
       " 'a',\n",
       " 'field',\n",
       " 'of',\n",
       " 'comput',\n",
       " 'scienc',\n",
       " 'artifici',\n",
       " 'intellig',\n",
       " 'and',\n",
       " 'comput',\n",
       " 'linguist',\n",
       " 'concern',\n",
       " 'with',\n",
       " 'the',\n",
       " 'interact',\n",
       " 'between',\n",
       " 'comput',\n",
       " 'and',\n",
       " 'human',\n",
       " 'natur',\n",
       " 'languag',\n",
       " 'and',\n",
       " 'in',\n",
       " 'particular',\n",
       " 'concern',\n",
       " 'with',\n",
       " 'program',\n",
       " 'comput',\n",
       " 'to',\n",
       " 'fruit',\n",
       " 'process',\n",
       " 'larg',\n",
       " 'natur',\n",
       " 'languag',\n",
       " 'corpus',\n",
       " 'challeng',\n",
       " 'in',\n",
       " 'natur',\n",
       " 'languag',\n",
       " 'process',\n",
       " 'frequent',\n",
       " 'involv',\n",
       " 'natur',\n",
       " 'languag',\n",
       " 'understand',\n",
       " 'natur',\n",
       " 'languagegener',\n",
       " 'frequent',\n",
       " 'from',\n",
       " 'formal',\n",
       " 'machine-read',\n",
       " 'logic',\n",
       " 'form',\n",
       " 'connect',\n",
       " 'languag',\n",
       " 'and',\n",
       " 'machin',\n",
       " 'percept',\n",
       " 'manag',\n",
       " 'human-comput',\n",
       " 'dialog',\n",
       " 'system',\n",
       " 'or',\n",
       " 'some',\n",
       " 'combin',\n",
       " 'thereof']"
      ]
     },
     "execution_count": 8,
     "metadata": {},
     "output_type": "execute_result"
    }
   ],
   "source": [
    "import string as st\n",
    "lis3=[]\n",
    "for i in lis2:\n",
    "    if i not in st.punctuation:\n",
    "        lis3.append(i)\n",
    "\n",
    "lis3"
   ]
  },
  {
   "cell_type": "code",
   "execution_count": 9,
   "id": "43c5d24a-ce4f-4dfb-aa50-93f3754247fe",
   "metadata": {},
   "outputs": [],
   "source": [
    "from nltk.tag import DefaultTagger\n",
    " \n",
    "tagging = DefaultTagger('NN')\n",
    "lis4 =[]\n",
    "for i in lis3:\n",
    "    lis4.append(tagging.tag(i))"
   ]
  },
  {
   "cell_type": "code",
   "execution_count": null,
   "id": "c964654e-772d-403f-8c1c-d2571e08a26f",
   "metadata": {},
   "outputs": [],
   "source": [
    "nltk.download()"
   ]
  },
  {
   "cell_type": "code",
   "execution_count": 10,
   "id": "2ee16167-5d23-43c5-8641-97237e21caac",
   "metadata": {},
   "outputs": [
    {
     "name": "stderr",
     "output_type": "stream",
     "text": [
      "[nltk_data] Downloading package averaged_perceptron_tagger to\n",
      "[nltk_data]     C:\\Users\\sriva\\AppData\\Roaming\\nltk_data...\n",
      "[nltk_data]   Unzipping taggers\\averaged_perceptron_tagger.zip.\n"
     ]
    },
    {
     "data": {
      "text/plain": [
       "True"
      ]
     },
     "execution_count": 10,
     "metadata": {},
     "output_type": "execute_result"
    }
   ],
   "source": [
    "nltk.download('averaged_perceptron_tagger')"
   ]
  },
  {
   "cell_type": "code",
   "execution_count": 13,
   "id": "549fcad6-e703-4734-a7d3-6715ccded56b",
   "metadata": {},
   "outputs": [
    {
     "data": {
      "text/plain": [
       "[('natur', 'JJ'),\n",
       " ('languag', 'NN'),\n",
       " ('process', 'NN'),\n",
       " ('nlp', 'NN'),\n",
       " ('is', 'VBZ'),\n",
       " ('a', 'DT'),\n",
       " ('field', 'NN'),\n",
       " ('of', 'IN'),\n",
       " ('comput', 'NN'),\n",
       " ('scienc', 'NN'),\n",
       " ('artifici', 'NN'),\n",
       " ('intellig', 'NN'),\n",
       " ('and', 'CC'),\n",
       " ('comput', 'NN'),\n",
       " ('linguist', 'NN'),\n",
       " ('concern', 'NN'),\n",
       " ('with', 'IN'),\n",
       " ('the', 'DT'),\n",
       " ('interact', 'NN'),\n",
       " ('between', 'IN'),\n",
       " ('comput', 'NN'),\n",
       " ('and', 'CC'),\n",
       " ('human', 'JJ'),\n",
       " ('natur', 'NN'),\n",
       " ('languag', 'NN'),\n",
       " ('and', 'CC'),\n",
       " ('in', 'IN'),\n",
       " ('particular', 'JJ'),\n",
       " ('concern', 'NN'),\n",
       " ('with', 'IN'),\n",
       " ('program', 'NN'),\n",
       " ('comput', 'NN'),\n",
       " ('to', 'TO'),\n",
       " ('fruit', 'VB'),\n",
       " ('process', 'NN'),\n",
       " ('larg', 'NN'),\n",
       " ('natur', 'NN'),\n",
       " ('languag', 'NN'),\n",
       " ('corpus', 'NN'),\n",
       " ('challeng', 'NN'),\n",
       " ('in', 'IN'),\n",
       " ('natur', 'JJ'),\n",
       " ('languag', 'JJ'),\n",
       " ('process', 'NN'),\n",
       " ('frequent', 'JJ'),\n",
       " ('involv', 'NN'),\n",
       " ('natur', 'JJ'),\n",
       " ('languag', 'NN'),\n",
       " ('understand', 'NN'),\n",
       " ('natur', 'NN'),\n",
       " ('languagegener', 'NN'),\n",
       " ('frequent', 'NN'),\n",
       " ('from', 'IN'),\n",
       " ('formal', 'JJ'),\n",
       " ('machine-read', 'JJ'),\n",
       " ('logic', 'JJ'),\n",
       " ('form', 'NN'),\n",
       " ('connect', 'NN'),\n",
       " ('languag', 'NN'),\n",
       " ('and', 'CC'),\n",
       " ('machin', 'JJ'),\n",
       " ('percept', 'NN'),\n",
       " ('manag', 'VBD'),\n",
       " ('human-comput', 'JJ'),\n",
       " ('dialog', 'NN'),\n",
       " ('system', 'NN'),\n",
       " ('or', 'CC'),\n",
       " ('some', 'DT'),\n",
       " ('combin', 'NN'),\n",
       " ('thereof', 'NN')]"
      ]
     },
     "execution_count": 13,
     "metadata": {},
     "output_type": "execute_result"
    }
   ],
   "source": [
    "nltk.pos_tag(lis3)"
   ]
  },
  {
   "cell_type": "code",
   "execution_count": null,
   "id": "84fcc3bc-b618-4bfa-a202-d77bb9ce05ad",
   "metadata": {},
   "outputs": [],
   "source": []
  }
 ],
 "metadata": {
  "kernelspec": {
   "display_name": "Python 3 (ipykernel)",
   "language": "python",
   "name": "python3"
  },
  "language_info": {
   "codemirror_mode": {
    "name": "ipython",
    "version": 3
   },
   "file_extension": ".py",
   "mimetype": "text/x-python",
   "name": "python",
   "nbconvert_exporter": "python",
   "pygments_lexer": "ipython3",
   "version": "3.10.9"
  }
 },
 "nbformat": 4,
 "nbformat_minor": 5
}
