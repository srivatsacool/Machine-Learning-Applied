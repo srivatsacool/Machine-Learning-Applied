{
 "cells": [
  {
   "cell_type": "code",
   "execution_count": 1,
   "id": "8b24dbd8-3100-46ae-a832-b1924367883e",
   "metadata": {},
   "outputs": [
    {
     "data": {
      "text/plain": [
       "'my name is srivatsa'"
      ]
     },
     "execution_count": 1,
     "metadata": {},
     "output_type": "execute_result"
    }
   ],
   "source": [
    "import string as st\n",
    "\n",
    "def remove_pun (text):\n",
    "    temp= []\n",
    "    for word in text:\n",
    "        if word not in st.punctuation:\n",
    "            temp.append(''.join(word))\n",
    "    return ''.join(temp)\n",
    "        \n",
    "remove_pun('my, name is srivatsa')"
   ]
  },
  {
   "cell_type": "code",
   "execution_count": 2,
   "id": "f26c5975-77f5-48d6-bb92-9478af757815",
   "metadata": {},
   "outputs": [
    {
     "data": {
      "text/plain": [
       "'my name is srivatsa'"
      ]
     },
     "execution_count": 2,
     "metadata": {},
     "output_type": "execute_result"
    }
   ],
   "source": [
    "import string as st\n",
    "\n",
    "def remove_pun (text):\n",
    "    temp= ''\n",
    "    for word in text:\n",
    "        if word not in st.punctuation:\n",
    "            temp = temp+word\n",
    "    return temp\n",
    "        \n",
    "remove_pun('my, name is srivatsa')"
   ]
  },
  {
   "cell_type": "code",
   "execution_count": 20,
   "id": "fe4eaed5-a7db-41cd-86cf-722a8e51a1f9",
   "metadata": {},
   "outputs": [
    {
     "data": {
      "text/plain": [
       "['he',\n",
       " 'is',\n",
       " 'a',\n",
       " 'good',\n",
       " 'boy',\n",
       " 'him',\n",
       " 'his',\n",
       " 'they',\n",
       " 'yourselves',\n",
       " 'see',\n",
       " 'cannot',\n",
       " 'happy',\n",
       " 'because']"
      ]
     },
     "execution_count": 20,
     "metadata": {},
     "output_type": "execute_result"
    }
   ],
   "source": [
    "import re \n",
    "\n",
    "def tokenization(text):\n",
    "    token = re.split('\\W+',text)\n",
    "    return token\n",
    "\n",
    "nxt = tokenization('he is a good boy.him his they yourselves see cannot happy because'.lower())\n",
    "nxt"
   ]
  },
  {
   "cell_type": "code",
   "execution_count": 15,
   "id": "499273d8-a5ec-4ac8-a186-5ac510e49c3a",
   "metadata": {},
   "outputs": [
    {
     "data": {
      "text/plain": [
       "179"
      ]
     },
     "execution_count": 15,
     "metadata": {},
     "output_type": "execute_result"
    }
   ],
   "source": [
    "import nltk\n",
    "#nltk.download('stopwords')\n",
    "stop_words = nltk.corpus.stopwords.words('english')\n",
    "len(stop_words)"
   ]
  },
  {
   "cell_type": "code",
   "execution_count": 17,
   "id": "0036aa10-51b1-46ab-88d4-9049346065fd",
   "metadata": {},
   "outputs": [
    {
     "data": {
      "text/plain": [
       "['good', 'boy', 'see', 'cannot', 'happy']"
      ]
     },
     "execution_count": 17,
     "metadata": {},
     "output_type": "execute_result"
    }
   ],
   "source": [
    "def remove_stop_words(text):\n",
    "    temp = []\n",
    "    for word in text:\n",
    "        if word not in stop_words:\n",
    "            temp.append(word)\n",
    "    return temp\n",
    "\n",
    "remove_stop_words(nxt)"
   ]
  },
  {
   "cell_type": "code",
   "execution_count": 29,
   "id": "e7d95fe2-8f77-413b-a275-44aa60724d86",
   "metadata": {},
   "outputs": [
    {
     "data": {
      "text/plain": [
       "'good'"
      ]
     },
     "execution_count": 29,
     "metadata": {},
     "output_type": "execute_result"
    }
   ],
   "source": [
    "ps = nltk.PorterStemmer()\n",
    "ps.stem(\"good\")"
   ]
  },
  {
   "cell_type": "code",
   "execution_count": null,
   "id": "047e8034-ebe9-444d-8de2-2a5b30fbff2c",
   "metadata": {},
   "outputs": [],
   "source": []
  }
 ],
 "metadata": {
  "kernelspec": {
   "display_name": "Python 3 (ipykernel)",
   "language": "python",
   "name": "python3"
  },
  "language_info": {
   "codemirror_mode": {
    "name": "ipython",
    "version": 3
   },
   "file_extension": ".py",
   "mimetype": "text/x-python",
   "name": "python",
   "nbconvert_exporter": "python",
   "pygments_lexer": "ipython3",
   "version": "3.10.9"
  }
 },
 "nbformat": 4,
 "nbformat_minor": 5
}
